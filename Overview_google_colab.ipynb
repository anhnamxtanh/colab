{
  "nbformat": 4,
  "nbformat_minor": 0,
  "metadata": {
    "colab": {
      "name": "Overview_google_colab.ipynb",
      "version": "0.3.2",
      "provenance": [],
      "toc_visible": true,
      "include_colab_link": true
    },
    "kernelspec": {
      "name": "python3",
      "display_name": "Python 3"
    },
    "accelerator": "GPU"
  },
  "cells": [
    {
      "cell_type": "markdown",
      "metadata": {
        "id": "view-in-github",
        "colab_type": "text"
      },
      "source": [
        "<a href=\"https://colab.research.google.com/github/anhnamxtanh/colab/blob/master/Overview_google_colab.ipynb\" target=\"_parent\"><img src=\"https://colab.research.google.com/assets/colab-badge.svg\" alt=\"Open In Colab\"/></a>"
      ]
    },
    {
      "metadata": {
        "id": "nl0xJzy6ufZy",
        "colab_type": "text"
      },
      "cell_type": "markdown",
      "source": [
        "# Colab system specs \n",
        "**Thông số kỹ thuật của Colab**\n",
        "\n",
        "\n",
        "---\n",
        "\n",
        "\n",
        "*Overall:*\n",
        "\n",
        "* CPU: 2-core Xeon 2.2GHz\n",
        "\n",
        "* GPU: 1xTesla K80 , having 2496 CUDA cores, compute 3.7,  12GB(11.439GB Usable) GDDR5  VRAM\n",
        "\n",
        "* RAM: ~12.6 GB Available\n",
        "\n",
        "* Disk: ~33 GB Available (With runtime type = None (only CPU), TPU), Disk: ~300 GB Available (With runtime type = GPU)\n",
        "\n",
        "Maximum lifetime of a VM is 12 hours. Idle VMs time out after 90m\n",
        "\n",
        "\n",
        "---\n",
        "\n",
        "To run below code as well as, You need to change runtime type:\n",
        "*Runtime -> Change runtime type -> Python 3, GPU*\n"
      ]
    },
    {
      "metadata": {
        "id": "zWPHG24wu5U2",
        "colab_type": "text"
      },
      "cell_type": "markdown",
      "source": [
        "## Disk information\n",
        "**Ổ cứng**"
      ]
    },
    {
      "metadata": {
        "id": "9Nigp79jlOQJ",
        "colab_type": "code",
        "outputId": "d2c18f79-05a4-43e2-f123-91e6a212bf17",
        "colab": {
          "base_uri": "https://localhost:8080/",
          "height": 156
        }
      },
      "cell_type": "code",
      "source": [
        "!df -BG"
      ],
      "execution_count": 0,
      "outputs": [
        {
          "output_type": "stream",
          "text": [
            "Filesystem     1G-blocks  Used Available Use% Mounted on\n",
            "overlay             359G   29G      312G   9% /\n",
            "tmpfs                 7G    0G        7G   0% /dev\n",
            "tmpfs                 7G    0G        7G   0% /sys/fs/cgroup\n",
            "/dev/sda1           365G   31G      335G   9% /opt/bin\n",
            "tmpfs                 7G    1G        7G   1% /var/colab\n",
            "shm                   6G    0G        6G   0% /dev/shm\n",
            "tmpfs                 7G    0G        7G   0% /sys/firmware\n"
          ],
          "name": "stdout"
        }
      ]
    },
    {
      "metadata": {
        "id": "_QgOUG81vVgC",
        "colab_type": "text"
      },
      "cell_type": "markdown",
      "source": [
        "## CPU, GPU, TPU, Memory specs\n",
        "**Thông số CPU, GPU,  TPU**"
      ]
    },
    {
      "metadata": {
        "id": "sgeUBWEfvyld",
        "colab_type": "text"
      },
      "cell_type": "markdown",
      "source": [
        "### CPU"
      ]
    },
    {
      "metadata": {
        "id": "P0Hbn3KAkBKg",
        "colab_type": "code",
        "outputId": "b6dc5d25-366c-4d4c-8944-d1e903a5b0c3",
        "colab": {
          "base_uri": "https://localhost:8080/",
          "height": 1166
        }
      },
      "cell_type": "code",
      "source": [
        "from psutil import *\n",
        "print(\"cpu_count() = \", cpu_count())\n",
        "!lscpu |grep 'Model name'\n",
        "\n",
        "print('\\n________********************________\\n')\n",
        "print(' ______________Details______________\\n')\n",
        "print(' ________Thông tin chi tiết________\\n')\n",
        "print('________********************________ \\n')\n",
        "\n",
        "!cat /proc/cpuinfo\n",
        "#!cat /proc/meminfo"
      ],
      "execution_count": 0,
      "outputs": [
        {
          "output_type": "stream",
          "text": [
            "cpu_count() =  2\n",
            "Model name:          Intel(R) Xeon(R) CPU @ 2.20GHz\n",
            "\n",
            "________********************________\n",
            "\n",
            " ______________Details______________\n",
            "\n",
            " ________Thông tin chi tiết________\n",
            "\n",
            "________********************________ \n",
            "\n",
            "processor\t: 0\n",
            "vendor_id\t: GenuineIntel\n",
            "cpu family\t: 6\n",
            "model\t\t: 79\n",
            "model name\t: Intel(R) Xeon(R) CPU @ 2.20GHz\n",
            "stepping\t: 0\n",
            "microcode\t: 0x1\n",
            "cpu MHz\t\t: 2200.000\n",
            "cache size\t: 56320 KB\n",
            "physical id\t: 0\n",
            "siblings\t: 2\n",
            "core id\t\t: 0\n",
            "cpu cores\t: 1\n",
            "apicid\t\t: 0\n",
            "initial apicid\t: 0\n",
            "fpu\t\t: yes\n",
            "fpu_exception\t: yes\n",
            "cpuid level\t: 13\n",
            "wp\t\t: yes\n",
            "flags\t\t: fpu vme de pse tsc msr pae mce cx8 apic sep mtrr pge mca cmov pat pse36 clflush mmx fxsr sse sse2 ss ht syscall nx pdpe1gb rdtscp lm constant_tsc rep_good nopl xtopology nonstop_tsc cpuid pni pclmulqdq ssse3 fma cx16 sse4_1 sse4_2 x2apic movbe popcnt aes xsave avx f16c rdrand hypervisor lahf_lm abm 3dnowprefetch pti ssbd ibrs ibpb stibp fsgsbase tsc_adjust bmi1 hle avx2 smep bmi2 erms rtm rdseed adx smap xsaveopt arat arch_capabilities\n",
            "bugs\t\t: cpu_meltdown spectre_v1 spectre_v2 spec_store_bypass l1tf\n",
            "bogomips\t: 4400.00\n",
            "clflush size\t: 64\n",
            "cache_alignment\t: 64\n",
            "address sizes\t: 46 bits physical, 48 bits virtual\n",
            "power management:\n",
            "\n",
            "processor\t: 1\n",
            "vendor_id\t: GenuineIntel\n",
            "cpu family\t: 6\n",
            "model\t\t: 79\n",
            "model name\t: Intel(R) Xeon(R) CPU @ 2.20GHz\n",
            "stepping\t: 0\n",
            "microcode\t: 0x1\n",
            "cpu MHz\t\t: 2200.000\n",
            "cache size\t: 56320 KB\n",
            "physical id\t: 0\n",
            "siblings\t: 2\n",
            "core id\t\t: 0\n",
            "cpu cores\t: 1\n",
            "apicid\t\t: 1\n",
            "initial apicid\t: 1\n",
            "fpu\t\t: yes\n",
            "fpu_exception\t: yes\n",
            "cpuid level\t: 13\n",
            "wp\t\t: yes\n",
            "flags\t\t: fpu vme de pse tsc msr pae mce cx8 apic sep mtrr pge mca cmov pat pse36 clflush mmx fxsr sse sse2 ss ht syscall nx pdpe1gb rdtscp lm constant_tsc rep_good nopl xtopology nonstop_tsc cpuid pni pclmulqdq ssse3 fma cx16 sse4_1 sse4_2 x2apic movbe popcnt aes xsave avx f16c rdrand hypervisor lahf_lm abm 3dnowprefetch pti ssbd ibrs ibpb stibp fsgsbase tsc_adjust bmi1 hle avx2 smep bmi2 erms rtm rdseed adx smap xsaveopt arat arch_capabilities\n",
            "bugs\t\t: cpu_meltdown spectre_v1 spectre_v2 spec_store_bypass l1tf\n",
            "bogomips\t: 4400.00\n",
            "clflush size\t: 64\n",
            "cache_alignment\t: 64\n",
            "address sizes\t: 46 bits physical, 48 bits virtual\n",
            "power management:\n",
            "\n"
          ],
          "name": "stdout"
        }
      ]
    },
    {
      "metadata": {
        "id": "KTfifeQ5yp2B",
        "colab_type": "text"
      },
      "cell_type": "markdown",
      "source": [
        "### GPU"
      ]
    },
    {
      "metadata": {
        "id": "IshynMSJy28Z",
        "colab_type": "code",
        "outputId": "f7d89461-cabb-4283-b5f1-e45387306a82",
        "colab": {
          "base_uri": "https://localhost:8080/",
          "height": 382
        }
      },
      "cell_type": "code",
      "source": [
        "#GPU count and name\n",
        "!nvidia-smi -L\n",
        "\n",
        "print('\\n________********************________\\n')\n",
        "\n",
        "#use this command to see GPU activity while doing Deep Learning tasks, for this command 'nvidia-smi' and for above one to work, go to 'Runtime > change runtime type > Hardware Accelerator > GPU'\n",
        "!nvidia-smi"
      ],
      "execution_count": 0,
      "outputs": [
        {
          "output_type": "stream",
          "text": [
            "GPU 0: Tesla K80 (UUID: GPU-4cf6e8cd-8ea2-68aa-0f88-645b2d6915bc)\n",
            "\n",
            "________********************________\n",
            "\n",
            "Thu Dec 27 03:57:05 2018       \n",
            "+-----------------------------------------------------------------------------+\n",
            "| NVIDIA-SMI 396.44                 Driver Version: 396.44                    |\n",
            "|-------------------------------+----------------------+----------------------+\n",
            "| GPU  Name        Persistence-M| Bus-Id        Disp.A | Volatile Uncorr. ECC |\n",
            "| Fan  Temp  Perf  Pwr:Usage/Cap|         Memory-Usage | GPU-Util  Compute M. |\n",
            "|===============================+======================+======================|\n",
            "|   0  Tesla K80           Off  | 00000000:00:04.0 Off |                    0 |\n",
            "| N/A   30C    P8    26W / 149W |      0MiB / 11441MiB |      0%      Default |\n",
            "+-------------------------------+----------------------+----------------------+\n",
            "                                                                               \n",
            "+-----------------------------------------------------------------------------+\n",
            "| Processes:                                                       GPU Memory |\n",
            "|  GPU       PID   Type   Process name                             Usage      |\n",
            "|=============================================================================|\n",
            "|  No running processes found                                                 |\n",
            "+-----------------------------------------------------------------------------+\n"
          ],
          "name": "stdout"
        }
      ]
    },
    {
      "metadata": {
        "id": "pkmOdHdUzkQb",
        "colab_type": "text"
      },
      "cell_type": "markdown",
      "source": [
        "### TPU\n",
        "TPU là gì, xin hãy tham khảo\n",
        "[bài viết](https://rosetta.vn/nguyenxuanxanh/tpu-chip-cua-tuong-lai/) này."
      ]
    },
    {
      "metadata": {
        "id": "VHdmzWX3z3x7",
        "colab_type": "text"
      },
      "cell_type": "markdown",
      "source": [
        "### Memory"
      ]
    },
    {
      "metadata": {
        "id": "KwZ5Ykovz4uh",
        "colab_type": "code",
        "outputId": "04325982-8de9-4323-bc29-f12b11e8b724",
        "colab": {
          "base_uri": "https://localhost:8080/",
          "height": 972
        }
      },
      "cell_type": "code",
      "source": [
        "!cat /proc/meminfo | grep 'MemAvailable'\n",
        "\n",
        "print('\\n________********************________\\n')\n",
        "print(' ______________Details______________\\n')\n",
        "print(' ________Thông tin chi tiết________\\n')\n",
        "print('________********************________ \\n')\n",
        "\n",
        "!cat /proc/meminfo"
      ],
      "execution_count": 0,
      "outputs": [
        {
          "output_type": "stream",
          "text": [
            "MemAvailable:   12613336 kB\n",
            "\n",
            "________********************________\n",
            "\n",
            " ______________Details______________\n",
            "\n",
            " ________Thông tin chi tiết________\n",
            "\n",
            "________********************________ \n",
            "\n",
            "MemTotal:       13335212 kB\n",
            "MemFree:         9273736 kB\n",
            "MemAvailable:   12616228 kB\n",
            "Buffers:           68740 kB\n",
            "Cached:          3430888 kB\n",
            "SwapCached:            0 kB\n",
            "Active:           859540 kB\n",
            "Inactive:        2949828 kB\n",
            "Active(anon):     281176 kB\n",
            "Inactive(anon):      344 kB\n",
            "Active(file):     578364 kB\n",
            "Inactive(file):  2949484 kB\n",
            "Unevictable:           0 kB\n",
            "Mlocked:               0 kB\n",
            "SwapTotal:             0 kB\n",
            "SwapFree:              0 kB\n",
            "Dirty:               424 kB\n",
            "Writeback:             0 kB\n",
            "AnonPages:        303940 kB\n",
            "Mapped:           143840 kB\n",
            "Shmem:               868 kB\n",
            "Slab:             144264 kB\n",
            "SReclaimable:     112604 kB\n",
            "SUnreclaim:        31660 kB\n",
            "KernelStack:        3728 kB\n",
            "PageTables:         4884 kB\n",
            "NFS_Unstable:          0 kB\n",
            "Bounce:                0 kB\n",
            "WritebackTmp:          0 kB\n",
            "CommitLimit:     6667604 kB\n",
            "Committed_AS:    1849704 kB\n",
            "VmallocTotal:   34359738367 kB\n",
            "VmallocUsed:           0 kB\n",
            "VmallocChunk:          0 kB\n",
            "AnonHugePages:         0 kB\n",
            "ShmemHugePages:        0 kB\n",
            "ShmemPmdMapped:        0 kB\n",
            "HugePages_Total:       0\n",
            "HugePages_Free:        0\n",
            "HugePages_Rsvd:        0\n",
            "HugePages_Surp:        0\n",
            "Hugepagesize:       2048 kB\n",
            "DirectMap4k:      581620 kB\n",
            "DirectMap2M:     8855552 kB\n",
            "DirectMap1G:     6291456 kB\n"
          ],
          "name": "stdout"
        }
      ]
    },
    {
      "metadata": {
        "id": "W-yeasI50r0W",
        "colab_type": "text"
      },
      "cell_type": "markdown",
      "source": [
        "### Check ram and CPU used\n",
        "**Kiểm tra ram và cpu đã dùng**"
      ]
    },
    {
      "metadata": {
        "id": "hiIrDy1A0ueC",
        "colab_type": "code",
        "outputId": "eef222e4-2ede-4192-b84f-a5c337530278",
        "colab": {
          "base_uri": "https://localhost:8080/",
          "height": 104
        }
      },
      "cell_type": "code",
      "source": [
        "# memory footprint support libraries/code\n",
        "!ln -sf /opt/bin/nvidia-smi /usr/bin/nvidia-smi\n",
        "!pip install gputil\n",
        "!pip install psutil\n",
        "!pip install humanize\n",
        "import psutil\n",
        "import humanize\n",
        "import os\n",
        "import GPUtil as GPU\n",
        "GPUs = GPU.getGPUs()\n",
        "# XXX: only one GPU on Colab and isn’t guaranteed\n",
        "gpu = GPUs[0]\n",
        "def printm():\n",
        " process = psutil.Process(os.getpid())\n",
        " print(\"Gen RAM Free: \" + humanize.naturalsize( psutil.virtual_memory().available ), \" | Proc size: \" + humanize.naturalsize( process.memory_info().rss))\n",
        " print(\"GPU RAM Free: {0:.0f}MB | Used: {1:.0f}MB | Util {2:3.0f}% | Total {3:.0f}MB\".format(gpu.memoryFree, gpu.memoryUsed, gpu.memoryUtil*100, gpu.memoryTotal))\n",
        "printm()"
      ],
      "execution_count": 0,
      "outputs": [
        {
          "output_type": "stream",
          "text": [
            "Requirement already satisfied: gputil in /usr/local/lib/python3.6/dist-packages (1.4.0)\n",
            "Requirement already satisfied: psutil in /usr/local/lib/python3.6/dist-packages (5.4.8)\n",
            "Requirement already satisfied: humanize in /usr/local/lib/python3.6/dist-packages (0.5.1)\n",
            "Gen RAM Free: 12.9 GB  | Proc size: 145.1 MB\n",
            "GPU RAM Free: 11441MB | Used: 0MB | Util   0% | Total 11441MB\n"
          ],
          "name": "stdout"
        }
      ]
    },
    {
      "metadata": {
        "id": "p74M49HV4xYo",
        "colab_type": "text"
      },
      "cell_type": "markdown",
      "source": [
        "# Colab with Kaggle API\n",
        "To Download data from Kaggle"
      ]
    },
    {
      "metadata": {
        "id": "JsPrIuQn45O2",
        "colab_type": "code",
        "colab": {}
      },
      "cell_type": "code",
      "source": [
        "!pip install -U -q kaggle\n",
        "!mkdir -p ~/.kaggle"
      ],
      "execution_count": 0,
      "outputs": []
    },
    {
      "metadata": {
        "id": "d6uskIMV6ii2",
        "colab_type": "text"
      },
      "cell_type": "markdown",
      "source": [
        "To use the Kaggle API, sign up for a Kaggle account at https://www.kaggle.com. Then go to the 'Account' tab of your user profile (https://www.kaggle.com//account) and select 'Create API Token'. This will trigger the download of kaggle.json, a file containing your API credentials. "
      ]
    },
    {
      "metadata": {
        "id": "_-cLlQpr5ACr",
        "colab_type": "text"
      },
      "cell_type": "markdown",
      "source": [
        "**Upload \"kaggle.json\" file**"
      ]
    },
    {
      "metadata": {
        "id": "Y6HQTL7V5Aw5",
        "colab_type": "code",
        "colab": {}
      },
      "cell_type": "code",
      "source": [
        "from google.colab import files\n",
        "files.upload()"
      ],
      "execution_count": 0,
      "outputs": []
    },
    {
      "metadata": {
        "id": "Rfkxh7Qv5T3L",
        "colab_type": "text"
      },
      "cell_type": "markdown",
      "source": [
        "**Move \"kaggle.json\" to ~/.kaggle/**"
      ]
    },
    {
      "metadata": {
        "id": "_Ltsyaa25U_Z",
        "colab_type": "code",
        "colab": {}
      },
      "cell_type": "code",
      "source": [
        "!cp kaggle.json ~/.kaggle/\n",
        "!chmod 600 ~/.kaggle/kaggle.json"
      ],
      "execution_count": 0,
      "outputs": []
    },
    {
      "metadata": {
        "id": "KgG0aaJH5oEz",
        "colab_type": "text"
      },
      "cell_type": "markdown",
      "source": [
        "**competitions list**"
      ]
    },
    {
      "metadata": {
        "id": "QD4cvTgA51F2",
        "colab_type": "code",
        "outputId": "6ddd246b-d440-48f4-c963-419458532cda",
        "colab": {
          "base_uri": "https://localhost:8080/",
          "height": 419
        }
      },
      "cell_type": "code",
      "source": [
        "!kaggle competitions list"
      ],
      "execution_count": 0,
      "outputs": [
        {
          "output_type": "stream",
          "text": [
            "ref                                            deadline             category            reward  teamCount  userHasEntered  \n",
            "---------------------------------------------  -------------------  ---------------  ---------  ---------  --------------  \n",
            "digit-recognizer                               2030-01-01 00:00:00  Getting Started  Knowledge       2750            True  \n",
            "titanic                                        2030-01-01 00:00:00  Getting Started  Knowledge      10677           False  \n",
            "house-prices-advanced-regression-techniques    2030-01-01 00:00:00  Getting Started  Knowledge       4656           False  \n",
            "imagenet-object-localization-challenge         2029-12-31 07:00:00  Research         Knowledge         31           False  \n",
            "competitive-data-science-predict-future-sales  2019-12-31 23:59:00  Playground           Kudos       2016           False  \n",
            "histopathologic-cancer-detection               2019-03-30 23:59:00  Playground       Knowledge        292           False  \n",
            "vsb-power-line-fault-detection                 2019-03-21 23:59:00  Featured           $25,000        116           False  \n",
            "microsoft-malware-prediction                   2019-03-13 23:59:00  Research           $25,000        607           False  \n",
            "humpback-whale-identification                  2019-02-28 23:59:00  Featured           $25,000        835            True  \n",
            "elo-merchant-category-recommendation           2019-02-26 23:59:00  Featured           $50,000       1849           False  \n",
            "ga-customer-revenue-prediction                 2019-02-15 23:59:00  Featured           $45,000       1104           False  \n",
            "reducing-commercial-aviation-fatalities        2019-02-12 23:59:00  Playground            Swag         18           False  \n",
            "quora-insincere-questions-classification       2019-02-05 23:59:00  Featured           $25,000       2669           False  \n",
            "pubg-finish-placement-prediction               2019-01-30 23:59:00  Playground            Swag       1227           False  \n",
            "20-newsgroups-ciphertext-challenge             2019-01-16 23:59:00  Playground            Swag         94           False  \n",
            "human-protein-atlas-image-classification       2019-01-10 23:59:00  Featured           $37,000       2014           False  \n",
            "traveling-santa-2018-prime-paths               2019-01-10 23:59:00  Featured           $25,000       1577           False  \n",
            "NFL-Punt-Analytics-Competition                 2019-01-09 23:59:00  Analytics          $80,000          0           False  \n",
            "two-sigma-financial-news                       2019-01-08 23:59:00  Featured          $100,000       2617           False  \n",
            "PLAsTiCC-2018                                  2018-12-17 23:59:00  Featured           $25,000       1094           False  \n"
          ],
          "name": "stdout"
        }
      ]
    },
    {
      "metadata": {
        "id": "PoVshPRc56A3",
        "colab_type": "text"
      },
      "cell_type": "markdown",
      "source": [
        "**Download data, join competition**\n",
        "\n",
        "\n",
        "Below code, I download data of digit-recognizer competition"
      ]
    },
    {
      "metadata": {
        "id": "1LosswPD5rkz",
        "colab_type": "code",
        "colab": {}
      },
      "cell_type": "code",
      "source": [
        "!kaggle competitions download -c digit-recognizer"
      ],
      "execution_count": 0,
      "outputs": []
    },
    {
      "metadata": {
        "id": "KL2WyOrWAtjY",
        "colab_type": "text"
      },
      "cell_type": "markdown",
      "source": [
        "# Adding Swap to google colab\n",
        "It seems impossible, I tried and failed. Instructions also not available on internet.\n",
        "\n",
        "Có vẻ như tạo một phân vùng swap (tạo ram ảo) cho google colab là không khả thi."
      ]
    },
    {
      "metadata": {
        "id": "-6nkZOsNS_v_",
        "colab_type": "text"
      },
      "cell_type": "markdown",
      "source": [
        "#   Mount Google Drive"
      ]
    },
    {
      "metadata": {
        "id": "pifPeRD3TDSZ",
        "colab_type": "code",
        "outputId": "a821954d-779a-46ae-c46b-33954b3dc76c",
        "colab": {
          "base_uri": "https://localhost:8080/",
          "height": 228
        }
      },
      "cell_type": "code",
      "source": [
        "!apt-get install -y -qq software-properties-common python-software-properties module-init-tools\n",
        "!add-apt-repository -y ppa:alessandro-strada/ppa 2>&1 > /dev/null\n",
        "!apt-get update -qq 2>&1 > /dev/null\n",
        "!apt-get -y install -qq google-drive-ocamlfuse fuse\n",
        "\n",
        "# Generate auth tokens for Colab\n",
        "from google.colab import auth\n",
        "auth.authenticate_user()\n",
        "\n",
        "# Generate creds for the Drive FUSE library.\n",
        "from oauth2client.client import GoogleCredentials\n",
        "creds = GoogleCredentials.get_application_default()\n",
        "import getpass\n",
        "!google-drive-ocamlfuse -headless -id={creds.client_id} -secret={creds.client_secret} < /dev/null 2>&1 | grep URL\n",
        "vcode = getpass.getpass()\n",
        "!echo {vcode} | google-drive-ocamlfuse -headless -id={creds.client_id} -secret={creds.client_secret}"
      ],
      "execution_count": 0,
      "outputs": [
        {
          "output_type": "stream",
          "text": [
            "E: Package 'python-software-properties' has no installation candidate\n",
            "Selecting previously unselected package google-drive-ocamlfuse.\n",
            "(Reading database ... 110842 files and directories currently installed.)\n",
            "Preparing to unpack .../google-drive-ocamlfuse_0.7.1-0ubuntu3~ubuntu18.04.1_amd64.deb ...\n",
            "Unpacking google-drive-ocamlfuse (0.7.1-0ubuntu3~ubuntu18.04.1) ...\n",
            "Setting up google-drive-ocamlfuse (0.7.1-0ubuntu3~ubuntu18.04.1) ...\n",
            "Processing triggers for man-db (2.8.3-2ubuntu0.1) ...\n",
            "Please, open the following URL in a web browser: https://accounts.google.com/o/oauth2/auth?client_id=32555940559.apps.googleusercontent.com&redirect_uri=urn%3Aietf%3Awg%3Aoauth%3A2.0%3Aoob&scope=https%3A%2F%2Fwww.googleapis.com%2Fauth%2Fdrive&response_type=code&access_type=offline&approval_prompt=force\n",
            "··········\n",
            "Please, open the following URL in a web browser: https://accounts.google.com/o/oauth2/auth?client_id=32555940559.apps.googleusercontent.com&redirect_uri=urn%3Aietf%3Awg%3Aoauth%3A2.0%3Aoob&scope=https%3A%2F%2Fwww.googleapis.com%2Fauth%2Fdrive&response_type=code&access_type=offline&approval_prompt=force\n",
            "Please enter the verification code: Access token retrieved correctly.\n"
          ],
          "name": "stdout"
        }
      ]
    },
    {
      "metadata": {
        "id": "oVeKnhiXTgsS",
        "colab_type": "code",
        "colab": {}
      },
      "cell_type": "code",
      "source": [
        "# Create a directory and mount Google Drive using that directory.\n",
        "!mkdir -p my_drive\n",
        "!google-drive-ocamlfuse my_drive\n",
        "\n",
        "# Create a folder to use the competition\n",
        "!mkdir -p my_drive/tut_kaggle\n",
        "!ls my_drive/tut_kaggle/\n",
        "#!python3 ~/my_drive/tut_kaggle/colab_test.py"
      ],
      "execution_count": 0,
      "outputs": []
    },
    {
      "metadata": {
        "id": "uwxvvW_VQ4cv",
        "colab_type": "text"
      },
      "cell_type": "markdown",
      "source": [
        "# References\n",
        "\n",
        "\n",
        "*   https://stackoverflow.com/questions/48750199/google-colaboratory-misleading-information-about-its-gpu-only-5-ram-available\n",
        "*   https://www.kaggle.com/getting-started/47096\n",
        "*   https://colab.research.google.com/drive/151805XTDg--dgHb3-AXJCpnWaqRhop_2\n",
        "*   https://colab.research.google.com/drive/1dint4ly-7h8Trw0XRJ1uhC_VKe_wDJfY\n",
        "*   https://medium.com/@burakteke/tutorial-on-using-google-colab-for-kaggle-competition-620393c22821\n"
      ]
    }
  ]
}